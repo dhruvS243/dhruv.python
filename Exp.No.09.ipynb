{
 "cells": [
  {
   "cell_type": "markdown",
   "id": "HXDSxFN0l9yl",
   "metadata": {
    "id": "HXDSxFN0l9yl"
   },
   "source": [
    "### Dhruv Ajay Patil\n",
    "### ROLL.NO-43\n",
    "## EXP.NO-09\n"
   ]
  },
  {
   "cell_type": "code",
   "execution_count": 6,
   "id": "d5Yw-JCrn5Rf",
   "metadata": {
    "colab": {
     "base_uri": "https://localhost:8080/"
    },
    "executionInfo": {
     "elapsed": 46,
     "status": "ok",
     "timestamp": 1742458731470,
     "user": {
      "displayName": "PAWAN PAWAR",
      "userId": "15440889054126301814"
     },
     "user_tz": -330
    },
    "id": "d5Yw-JCrn5Rf",
    "outputId": "bf7288a5-eb7a-425b-cc1c-16cecdb67776"
   },
   "outputs": [
    {
     "name": "stdout",
     "output_type": "stream",
     "text": [
      "1. Array Creation Techniques\n"
     ]
    }
   ],
   "source": [
    "import numpy as np\n",
    "\n",
    "# 1. Array Creation Techniques\n",
    "print(\"1. Array Creation Techniques\")"
   ]
  },
  {
   "cell_type": "code",
   "execution_count": 7,
   "id": "22hTqxweojpu",
   "metadata": {
    "colab": {
     "base_uri": "https://localhost:8080/"
    },
    "executionInfo": {
     "elapsed": 4,
     "status": "ok",
     "timestamp": 1742458739030,
     "user": {
      "displayName": "PAWAN PAWAR",
      "userId": "15440889054126301814"
     },
     "user_tz": -330
    },
    "id": "22hTqxweojpu",
    "outputId": "968ec031-cecb-4e0f-9e9a-b645824994a4"
   },
   "outputs": [
    {
     "data": {
      "text/plain": [
       "array([1, 2, 3, 4, 5])"
      ]
     },
     "execution_count": 7,
     "metadata": {},
     "output_type": "execute_result"
    }
   ],
   "source": [
    "array_from_list = np.array([1, 2, 3, 4, 5])\n",
    "array_from_list"
   ]
  },
  {
   "cell_type": "code",
   "execution_count": 8,
   "id": "UwYwZMN8olgN",
   "metadata": {
    "colab": {
     "base_uri": "https://localhost:8080/"
    },
    "executionInfo": {
     "elapsed": 5,
     "status": "ok",
     "timestamp": 1742458750598,
     "user": {
      "displayName": "PAWAN PAWAR",
      "userId": "15440889054126301814"
     },
     "user_tz": -330
    },
    "id": "UwYwZMN8olgN",
    "outputId": "23b9eb24-e48e-418d-cc63-84c750b4f819"
   },
   "outputs": [
    {
     "data": {
      "text/plain": [
       "array([0, 2, 4, 6, 8])"
      ]
     },
     "execution_count": 8,
     "metadata": {},
     "output_type": "execute_result"
    }
   ],
   "source": [
    "array_arange = np.arange(0, 10, 2)\n",
    "array_arange\n"
   ]
  },
  {
   "cell_type": "code",
   "execution_count": 9,
   "id": "BMIIg3asooVE",
   "metadata": {
    "colab": {
     "base_uri": "https://localhost:8080/"
    },
    "executionInfo": {
     "elapsed": 21,
     "status": "ok",
     "timestamp": 1742458758815,
     "user": {
      "displayName": "PAWAN PAWAR",
      "userId": "15440889054126301814"
     },
     "user_tz": -330
    },
    "id": "BMIIg3asooVE",
    "outputId": "e5c7655b-381c-40ac-f4c2-aba825c8bf00"
   },
   "outputs": [
    {
     "data": {
      "text/plain": [
       "array([ 0. ,  2.5,  5. ,  7.5, 10. ])"
      ]
     },
     "execution_count": 9,
     "metadata": {},
     "output_type": "execute_result"
    }
   ],
   "source": [
    "array_linspace = np.linspace(0, 10, 5)  # Divides 0 to 10 into 5 points\n",
    "array_linspace"
   ]
  },
  {
   "cell_type": "code",
   "execution_count": 10,
   "id": "a5t_rVr9oqVU",
   "metadata": {
    "colab": {
     "base_uri": "https://localhost:8080/"
    },
    "executionInfo": {
     "elapsed": 10,
     "status": "ok",
     "timestamp": 1742458768188,
     "user": {
      "displayName": "PAWAN PAWAR",
      "userId": "15440889054126301814"
     },
     "user_tz": -330
    },
    "id": "a5t_rVr9oqVU",
    "outputId": "4a82f7f8-4e26-40e3-96fe-6fac25828540"
   },
   "outputs": [
    {
     "data": {
      "text/plain": [
       "array([[0., 0., 0.],\n",
       "       [0., 0., 0.],\n",
       "       [0., 0., 0.]])"
      ]
     },
     "execution_count": 10,
     "metadata": {},
     "output_type": "execute_result"
    }
   ],
   "source": [
    "# d. Using zeros()\n",
    "array_zeros = np.zeros((3, 3))\n",
    "array_zeros"
   ]
  },
  {
   "cell_type": "code",
   "execution_count": 11,
   "id": "L3K4ZR4Sosn-",
   "metadata": {
    "colab": {
     "base_uri": "https://localhost:8080/"
    },
    "executionInfo": {
     "elapsed": 16,
     "status": "ok",
     "timestamp": 1742458775653,
     "user": {
      "displayName": "PAWAN PAWAR",
      "userId": "15440889054126301814"
     },
     "user_tz": -330
    },
    "id": "L3K4ZR4Sosn-",
    "outputId": "bd6c5499-1040-4f45-aaab-86813fdeceda"
   },
   "outputs": [
    {
     "data": {
      "text/plain": [
       "array([[1., 1.],\n",
       "       [1., 1.]])"
      ]
     },
     "execution_count": 11,
     "metadata": {},
     "output_type": "execute_result"
    }
   ],
   "source": [
    "# e. Using ones()\n",
    "array_ones = np.ones((2, 2))\n",
    "array_ones\n"
   ]
  },
  {
   "cell_type": "code",
   "execution_count": 12,
   "id": "JfgTrkthoucl",
   "metadata": {
    "colab": {
     "base_uri": "https://localhost:8080/"
    },
    "executionInfo": {
     "elapsed": 8,
     "status": "ok",
     "timestamp": 1742458784585,
     "user": {
      "displayName": "PAWAN PAWAR",
      "userId": "15440889054126301814"
     },
     "user_tz": -330
    },
    "id": "JfgTrkthoucl",
    "outputId": "98dfd1c1-104e-41b1-b53e-a01012133bb5"
   },
   "outputs": [
    {
     "data": {
      "text/plain": [
       "array([[1., 0., 0.],\n",
       "       [0., 1., 0.],\n",
       "       [0., 0., 1.]])"
      ]
     },
     "execution_count": 12,
     "metadata": {},
     "output_type": "execute_result"
    }
   ],
   "source": [
    "# f. Using eye() for identity matrix\n",
    "array_eye = np.eye(3)\n",
    "array_eye"
   ]
  },
  {
   "cell_type": "code",
   "execution_count": 13,
   "id": "O7TlmFv7owoN",
   "metadata": {
    "colab": {
     "base_uri": "https://localhost:8080/"
    },
    "executionInfo": {
     "elapsed": 18,
     "status": "ok",
     "timestamp": 1742458791456,
     "user": {
      "displayName": "PAWAN PAWAR",
      "userId": "15440889054126301814"
     },
     "user_tz": -330
    },
    "id": "O7TlmFv7owoN",
    "outputId": "6e0e5ef2-fc84-4f19-ce73-410e0588a50d"
   },
   "outputs": [
    {
     "data": {
      "text/plain": [
       "array([[0.6120712 , 0.65737   , 0.87980231],\n",
       "       [0.34704021, 0.14296831, 0.47257887],\n",
       "       [0.58369679, 0.36787988, 0.28151596]])"
      ]
     },
     "execution_count": 13,
     "metadata": {},
     "output_type": "execute_result"
    }
   ],
   "source": [
    "# g. Using random() for random values\n",
    "array_random = np.random.random((3, 3))\n",
    "array_random"
   ]
  },
  {
   "cell_type": "code",
   "execution_count": 14,
   "id": "GY3zegbyoyTd",
   "metadata": {
    "colab": {
     "base_uri": "https://localhost:8080/"
    },
    "executionInfo": {
     "elapsed": 15,
     "status": "ok",
     "timestamp": 1742458798529,
     "user": {
      "displayName": "PAWAN PAWAR",
      "userId": "15440889054126301814"
     },
     "user_tz": -330
    },
    "id": "GY3zegbyoyTd",
    "outputId": "bd22f821-19f5-45cc-edb0-393434a00247"
   },
   "outputs": [
    {
     "name": "stdout",
     "output_type": "stream",
     "text": [
      "\n",
      "2. NumPy Methods\n"
     ]
    }
   ],
   "source": [
    "# 2. Different NumPy Methods\n",
    "print(\"\\n2. NumPy Methods\")"
   ]
  },
  {
   "cell_type": "code",
   "execution_count": 15,
   "id": "bV20x76ho0B8",
   "metadata": {
    "colab": {
     "base_uri": "https://localhost:8080/"
    },
    "executionInfo": {
     "elapsed": 12,
     "status": "ok",
     "timestamp": 1742458806028,
     "user": {
      "displayName": "PAWAN PAWAR",
      "userId": "15440889054126301814"
     },
     "user_tz": -330
    },
    "id": "bV20x76ho0B8",
    "outputId": "0b080eb6-fc8e-48b0-84b2-b6394cb1e7fa"
   },
   "outputs": [
    {
     "data": {
      "text/plain": [
       "array([[1, 2, 3],\n",
       "       [4, 5, 6],\n",
       "       [7, 8, 9]])"
      ]
     },
     "execution_count": 15,
     "metadata": {},
     "output_type": "execute_result"
    }
   ],
   "source": [
    "# a. Reshaping an array\n",
    "reshaped_array = np.arange(1, 10).reshape(3, 3)\n",
    "reshaped_array"
   ]
  },
  {
   "cell_type": "code",
   "execution_count": 16,
   "id": "mRx9J0JEo13O",
   "metadata": {
    "colab": {
     "base_uri": "https://localhost:8080/"
    },
    "executionInfo": {
     "elapsed": 16,
     "status": "ok",
     "timestamp": 1742458815854,
     "user": {
      "displayName": "PAWAN PAWAR",
      "userId": "15440889054126301814"
     },
     "user_tz": -330
    },
    "id": "mRx9J0JEo13O",
    "outputId": "cacaf8ea-a114-4ac1-81dd-3e9f84071dc5"
   },
   "outputs": [
    {
     "data": {
      "text/plain": [
       "array([[1, 4, 7],\n",
       "       [2, 5, 8],\n",
       "       [3, 6, 9]])"
      ]
     },
     "execution_count": 16,
     "metadata": {},
     "output_type": "execute_result"
    }
   ],
   "source": [
    "transposed_array = reshaped_array.T\n",
    "transposed_array"
   ]
  },
  {
   "cell_type": "code",
   "execution_count": 17,
   "id": "8qRf2RSFo4Qs",
   "metadata": {
    "colab": {
     "base_uri": "https://localhost:8080/"
    },
    "executionInfo": {
     "elapsed": 6,
     "status": "ok",
     "timestamp": 1742458824208,
     "user": {
      "displayName": "PAWAN PAWAR",
      "userId": "15440889054126301814"
     },
     "user_tz": -330
    },
    "id": "8qRf2RSFo4Qs",
    "outputId": "4b1cc5dc-5a34-45ad-8b8f-98589a5c838b"
   },
   "outputs": [
    {
     "data": {
      "text/plain": [
       "array([1.        , 1.41421356, 1.73205081])"
      ]
     },
     "execution_count": 17,
     "metadata": {},
     "output_type": "execute_result"
    }
   ],
   "source": [
    "array_math = np.array([1, 2, 3])\n",
    "array_math + 2\n",
    "array_math * 3\n",
    "np.sqrt(array_math)"
   ]
  },
  {
   "cell_type": "code",
   "execution_count": 18,
   "id": "4ll-oQZeo6TO",
   "metadata": {
    "colab": {
     "base_uri": "https://localhost:8080/"
    },
    "executionInfo": {
     "elapsed": 17,
     "status": "ok",
     "timestamp": 1742458832010,
     "user": {
      "displayName": "PAWAN PAWAR",
      "userId": "15440889054126301814"
     },
     "user_tz": -330
    },
    "id": "4ll-oQZeo6TO",
    "outputId": "4346e48d-a19b-4be6-9db9-b4f7b72b6e6f"
   },
   "outputs": [
    {
     "data": {
      "text/plain": [
       "np.int64(1)"
      ]
     },
     "execution_count": 18,
     "metadata": {},
     "output_type": "execute_result"
    }
   ],
   "source": [
    "np.sum(array_math)\n",
    "np.mean(array_math)\n",
    "np.max(array_math)\n",
    "np.min(array_math)"
   ]
  },
  {
   "cell_type": "code",
   "execution_count": 19,
   "id": "FkSwhu5io8NE",
   "metadata": {
    "colab": {
     "base_uri": "https://localhost:8080/"
    },
    "executionInfo": {
     "elapsed": 15,
     "status": "ok",
     "timestamp": 1742458839602,
     "user": {
      "displayName": "PAWAN PAWAR",
      "userId": "15440889054126301814"
     },
     "user_tz": -330
    },
    "id": "FkSwhu5io8NE",
    "outputId": "89521372-c9ca-4be6-e82b-0e5fa4dcc0b8"
   },
   "outputs": [
    {
     "data": {
      "text/plain": [
       "array([1, 2, 3, 4, 5, 6])"
      ]
     },
     "execution_count": 19,
     "metadata": {},
     "output_type": "execute_result"
    }
   ],
   "source": [
    "# e. Concatenation of arrays\n",
    "array_a = np.array([1, 2, 3])\n",
    "array_b = np.array([4, 5, 6])\n",
    "concat_array = np.concatenate((array_a, array_b))\n",
    "concat_array"
   ]
  },
  {
   "cell_type": "code",
   "execution_count": 20,
   "id": "DsmTzp5Bo-Du",
   "metadata": {
    "colab": {
     "base_uri": "https://localhost:8080/"
    },
    "executionInfo": {
     "elapsed": 16,
     "status": "ok",
     "timestamp": 1742458849872,
     "user": {
      "displayName": "PAWAN PAWAR",
      "userId": "15440889054126301814"
     },
     "user_tz": -330
    },
    "id": "DsmTzp5Bo-Du",
    "outputId": "df443b6d-b654-472b-ec27-4f76c68f7328"
   },
   "outputs": [
    {
     "data": {
      "text/plain": [
       "array([1, 2, 3, 4])"
      ]
     },
     "execution_count": 20,
     "metadata": {},
     "output_type": "execute_result"
    }
   ],
   "source": [
    "# f. Sorting an array\n",
    "unsorted_array = np.array([3, 1, 4, 2])\n",
    "sorted_array = np.sort(unsorted_array)\n",
    "sorted_array"
   ]
  },
  {
   "cell_type": "code",
   "execution_count": 21,
   "id": "TSUzTMGxpAkN",
   "metadata": {
    "colab": {
     "base_uri": "https://localhost:8080/"
    },
    "executionInfo": {
     "elapsed": 17,
     "status": "ok",
     "timestamp": 1742458861074,
     "user": {
      "displayName": "PAWAN PAWAR",
      "userId": "15440889054126301814"
     },
     "user_tz": -330
    },
    "id": "TSUzTMGxpAkN",
    "outputId": "c1c3a39b-e411-4327-c761-a78516d28e3b"
   },
   "outputs": [
    {
     "data": {
      "text/plain": [
       "array([2, 3])"
      ]
     },
     "execution_count": 21,
     "metadata": {},
     "output_type": "execute_result"
    }
   ],
   "source": [
    "# g. Indexing and Slicing\n",
    "indexed_value = array_math[1]  # Indexing\n",
    "indexed_value\n",
    "sliced_array = array_math[1:3]  # Slicing\n",
    "sliced_array"
   ]
  },
  {
   "cell_type": "code",
   "execution_count": 22,
   "id": "ZOER6nhtpDTM",
   "metadata": {
    "colab": {
     "base_uri": "https://localhost:8080/"
    },
    "executionInfo": {
     "elapsed": 16,
     "status": "ok",
     "timestamp": 1742458869037,
     "user": {
      "displayName": "PAWAN PAWAR",
      "userId": "15440889054126301814"
     },
     "user_tz": -330
    },
    "id": "ZOER6nhtpDTM",
    "outputId": "02aa823c-e1dd-4274-b17e-013562ce1344"
   },
   "outputs": [
    {
     "data": {
      "text/plain": [
       "array([3])"
      ]
     },
     "execution_count": 22,
     "metadata": {},
     "output_type": "execute_result"
    }
   ],
   "source": [
    "# h. Boolean Masking\n",
    "boolean_mask = array_math > 2\n",
    "boolean_mask\n",
    "array_math[boolean_mask]"
   ]
  },
  {
   "cell_type": "code",
   "execution_count": null,
   "id": "d2NUFZ5upFPs",
   "metadata": {
    "id": "d2NUFZ5upFPs"
   },
   "outputs": [],
   "source": []
  }
 ],
 "metadata": {
  "colab": {
   "provenance": []
  },
  "kernelspec": {
   "display_name": "Python 3 (ipykernel)",
   "language": "python",
   "name": "python3"
  },
  "language_info": {
   "codemirror_mode": {
    "name": "ipython",
    "version": 3
   },
   "file_extension": ".py",
   "mimetype": "text/x-python",
   "name": "python",
   "nbconvert_exporter": "python",
   "pygments_lexer": "ipython3",
   "version": "3.13.2"
  }
 },
 "nbformat": 4,
 "nbformat_minor": 5
}
